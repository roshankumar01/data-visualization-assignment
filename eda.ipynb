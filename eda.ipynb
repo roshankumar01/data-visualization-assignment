{
 "cells": [
  {
   "cell_type": "code",
   "execution_count": 34,
   "id": "0b5b28eb",
   "metadata": {},
   "outputs": [],
   "source": [
    "import pandas as pd\n",
    "import numpy as np\n",
    "import matplotlib.pyplot as plt\n",
    "import seaborn as sns"
   ]
  },
  {
   "cell_type": "code",
   "execution_count": 35,
   "id": "c21f9936",
   "metadata": {},
   "outputs": [
    {
     "name": "stdout",
     "output_type": "stream",
     "text": [
      "(9411727, 6)\n"
     ]
    }
   ],
   "source": [
    "df_comment = pd.read_csv(\"Comments.csv\")\n",
    "print (df_comment.shape)"
   ]
  },
  {
   "cell_type": "code",
   "execution_count": 36,
   "id": "0956f480",
   "metadata": {},
   "outputs": [
    {
     "data": {
      "text/html": [
       "<div>\n",
       "<style scoped>\n",
       "    .dataframe tbody tr th:only-of-type {\n",
       "        vertical-align: middle;\n",
       "    }\n",
       "\n",
       "    .dataframe tbody tr th {\n",
       "        vertical-align: top;\n",
       "    }\n",
       "\n",
       "    .dataframe thead th {\n",
       "        text-align: right;\n",
       "    }\n",
       "</style>\n",
       "<table border=\"1\" class=\"dataframe\">\n",
       "  <thead>\n",
       "    <tr style=\"text-align: right;\">\n",
       "      <th></th>\n",
       "      <th>id</th>\n",
       "      <th>course_id</th>\n",
       "      <th>rate</th>\n",
       "      <th>date</th>\n",
       "      <th>display_name</th>\n",
       "      <th>comment</th>\n",
       "    </tr>\n",
       "  </thead>\n",
       "  <tbody>\n",
       "    <tr>\n",
       "      <th>0</th>\n",
       "      <td>88962892</td>\n",
       "      <td>3173036</td>\n",
       "      <td>1.0</td>\n",
       "      <td>2021-06-29T18:54:25-07:00</td>\n",
       "      <td>Rahul</td>\n",
       "      <td>I think a beginner needs more than you think.\\...</td>\n",
       "    </tr>\n",
       "    <tr>\n",
       "      <th>1</th>\n",
       "      <td>125535470</td>\n",
       "      <td>4913148</td>\n",
       "      <td>5.0</td>\n",
       "      <td>2022-10-07T11:17:41-07:00</td>\n",
       "      <td>Marlo</td>\n",
       "      <td>Aviva is such a natural teacher and healer/hea...</td>\n",
       "    </tr>\n",
       "  </tbody>\n",
       "</table>\n",
       "</div>"
      ],
      "text/plain": [
       "          id  course_id  rate                       date display_name  \\\n",
       "0   88962892    3173036   1.0  2021-06-29T18:54:25-07:00        Rahul   \n",
       "1  125535470    4913148   5.0  2022-10-07T11:17:41-07:00        Marlo   \n",
       "\n",
       "                                             comment  \n",
       "0  I think a beginner needs more than you think.\\...  \n",
       "1  Aviva is such a natural teacher and healer/hea...  "
      ]
     },
     "execution_count": 36,
     "metadata": {},
     "output_type": "execute_result"
    }
   ],
   "source": [
    "df_comment.head(2)"
   ]
  },
  {
   "cell_type": "code",
   "execution_count": 25,
   "id": "f9a9aceb",
   "metadata": {},
   "outputs": [
    {
     "data": {
      "text/plain": [
       "567828     39040\n",
       "793796     36101\n",
       "625204     31001\n",
       "1565838    27723\n",
       "914296     27540\n",
       "           ...  \n",
       "327548         1\n",
       "4226992        1\n",
       "4175632        1\n",
       "2389532        1\n",
       "3173036        1\n",
       "Name: course_id, Length: 162995, dtype: int64"
      ]
     },
     "execution_count": 25,
     "metadata": {},
     "output_type": "execute_result"
    }
   ],
   "source": [
    "df_comment.course_id.value_counts()"
   ]
  },
  {
   "cell_type": "code",
   "execution_count": null,
   "id": "7ee74041",
   "metadata": {},
   "outputs": [],
   "source": [
    "df_comment.is_paid.value_counts()"
   ]
  },
  {
   "cell_type": "code",
   "execution_count": 37,
   "id": "a42a3956",
   "metadata": {},
   "outputs": [
    {
     "name": "stdout",
     "output_type": "stream",
     "text": [
      "(209734, 20)\n"
     ]
    }
   ],
   "source": [
    "df = pd.read_csv(\"Course_info.csv\")\n",
    "print (df.shape)"
   ]
  },
  {
   "cell_type": "code",
   "execution_count": 38,
   "id": "da4eb9a3",
   "metadata": {},
   "outputs": [
    {
     "data": {
      "text/html": [
       "<div>\n",
       "<style scoped>\n",
       "    .dataframe tbody tr th:only-of-type {\n",
       "        vertical-align: middle;\n",
       "    }\n",
       "\n",
       "    .dataframe tbody tr th {\n",
       "        vertical-align: top;\n",
       "    }\n",
       "\n",
       "    .dataframe thead th {\n",
       "        text-align: right;\n",
       "    }\n",
       "</style>\n",
       "<table border=\"1\" class=\"dataframe\">\n",
       "  <thead>\n",
       "    <tr style=\"text-align: right;\">\n",
       "      <th></th>\n",
       "      <th>id</th>\n",
       "      <th>title</th>\n",
       "      <th>is_paid</th>\n",
       "      <th>price</th>\n",
       "      <th>headline</th>\n",
       "      <th>num_subscribers</th>\n",
       "      <th>avg_rating</th>\n",
       "      <th>num_reviews</th>\n",
       "      <th>num_comments</th>\n",
       "      <th>num_lectures</th>\n",
       "      <th>content_length_min</th>\n",
       "      <th>published_time</th>\n",
       "      <th>last_update_date</th>\n",
       "      <th>category</th>\n",
       "      <th>subcategory</th>\n",
       "      <th>topic</th>\n",
       "      <th>language</th>\n",
       "      <th>course_url</th>\n",
       "      <th>instructor_name</th>\n",
       "      <th>instructor_url</th>\n",
       "    </tr>\n",
       "  </thead>\n",
       "  <tbody>\n",
       "    <tr>\n",
       "      <th>0</th>\n",
       "      <td>4715.0</td>\n",
       "      <td>Online Vegan Vegetarian Cooking School</td>\n",
       "      <td>True</td>\n",
       "      <td>24.99</td>\n",
       "      <td>Learn to cook delicious vegan recipes. Filmed ...</td>\n",
       "      <td>2231.0</td>\n",
       "      <td>3.75</td>\n",
       "      <td>134.0</td>\n",
       "      <td>42.0</td>\n",
       "      <td>37.0</td>\n",
       "      <td>1268.0</td>\n",
       "      <td>2010-08-05T22:06:13Z</td>\n",
       "      <td>2020-11-06</td>\n",
       "      <td>Lifestyle</td>\n",
       "      <td>Food &amp; Beverage</td>\n",
       "      <td>Vegan Cooking</td>\n",
       "      <td>English</td>\n",
       "      <td>/course/vegan-vegetarian-cooking-school/</td>\n",
       "      <td>Angela Poch</td>\n",
       "      <td>/user/angelapoch/</td>\n",
       "    </tr>\n",
       "    <tr>\n",
       "      <th>1</th>\n",
       "      <td>1769.0</td>\n",
       "      <td>The Lean Startup Talk at Stanford E-Corner</td>\n",
       "      <td>False</td>\n",
       "      <td>0.00</td>\n",
       "      <td>Debunking Myths of Entrepreneurship A startup ...</td>\n",
       "      <td>26474.0</td>\n",
       "      <td>4.50</td>\n",
       "      <td>709.0</td>\n",
       "      <td>112.0</td>\n",
       "      <td>9.0</td>\n",
       "      <td>88.0</td>\n",
       "      <td>2010-01-12T18:09:46Z</td>\n",
       "      <td>NaN</td>\n",
       "      <td>Business</td>\n",
       "      <td>Entrepreneurship</td>\n",
       "      <td>Lean Startup</td>\n",
       "      <td>English</td>\n",
       "      <td>/course/the-lean-startup-debunking-myths-of-en...</td>\n",
       "      <td>Eric Ries</td>\n",
       "      <td>/user/ericries/</td>\n",
       "    </tr>\n",
       "  </tbody>\n",
       "</table>\n",
       "</div>"
      ],
      "text/plain": [
       "       id                                       title  is_paid  price  \\\n",
       "0  4715.0      Online Vegan Vegetarian Cooking School     True  24.99   \n",
       "1  1769.0  The Lean Startup Talk at Stanford E-Corner    False   0.00   \n",
       "\n",
       "                                            headline  num_subscribers  \\\n",
       "0  Learn to cook delicious vegan recipes. Filmed ...           2231.0   \n",
       "1  Debunking Myths of Entrepreneurship A startup ...          26474.0   \n",
       "\n",
       "   avg_rating  num_reviews  num_comments  num_lectures  content_length_min  \\\n",
       "0        3.75        134.0          42.0          37.0              1268.0   \n",
       "1        4.50        709.0         112.0           9.0                88.0   \n",
       "\n",
       "         published_time last_update_date   category       subcategory  \\\n",
       "0  2010-08-05T22:06:13Z       2020-11-06  Lifestyle   Food & Beverage   \n",
       "1  2010-01-12T18:09:46Z              NaN   Business  Entrepreneurship   \n",
       "\n",
       "           topic language                                         course_url  \\\n",
       "0  Vegan Cooking  English           /course/vegan-vegetarian-cooking-school/   \n",
       "1   Lean Startup  English  /course/the-lean-startup-debunking-myths-of-en...   \n",
       "\n",
       "  instructor_name     instructor_url  \n",
       "0     Angela Poch  /user/angelapoch/  \n",
       "1       Eric Ries    /user/ericries/  "
      ]
     },
     "execution_count": 38,
     "metadata": {},
     "output_type": "execute_result"
    }
   ],
   "source": [
    "df.head(2)"
   ]
  },
  {
   "cell_type": "code",
   "execution_count": 7,
   "id": "5903635c",
   "metadata": {},
   "outputs": [
    {
     "data": {
      "text/plain": [
       "True     187996\n",
       "False     21738\n",
       "Name: is_paid, dtype: int64"
      ]
     },
     "execution_count": 7,
     "metadata": {},
     "output_type": "execute_result"
    }
   ],
   "source": [
    "df.is_paid.value_counts()"
   ]
  },
  {
   "cell_type": "code",
   "execution_count": 9,
   "id": "85f2b2fb",
   "metadata": {},
   "outputs": [
    {
     "data": {
      "text/plain": [
       "Development             31643\n",
       "IT & Software           30479\n",
       "Teaching & Academics    26293\n",
       "Business                24670\n",
       "Personal Development    21239\n",
       "Design                  15256\n",
       "Health & Fitness        11568\n",
       "Marketing               11221\n",
       "Lifestyle               10653\n",
       "Finance & Accounting    10572\n",
       "Office Productivity      6297\n",
       "Music                    5977\n",
       "Photography & Video      3866\n",
       "Name: category, dtype: int64"
      ]
     },
     "execution_count": 9,
     "metadata": {},
     "output_type": "execute_result"
    }
   ],
   "source": [
    "df.category.value_counts()"
   ]
  },
  {
   "cell_type": "code",
   "execution_count": 10,
   "id": "eadd12db",
   "metadata": {},
   "outputs": [
    {
     "data": {
      "text/plain": [
       "Other IT & Software       11523\n",
       "Web Development           10393\n",
       "IT Certifications         10337\n",
       "Language Learning          7551\n",
       "Programming Languages      7027\n",
       "                          ...  \n",
       "Commercial Photography      170\n",
       "Compliance                  139\n",
       "Apple                       131\n",
       "Oracle                      129\n",
       "Public Relations            114\n",
       "Name: subcategory, Length: 130, dtype: int64"
      ]
     },
     "execution_count": 10,
     "metadata": {},
     "output_type": "execute_result"
    }
   ],
   "source": [
    "df.subcategory.value_counts()"
   ]
  },
  {
   "cell_type": "code",
   "execution_count": 11,
   "id": "067df13c",
   "metadata": {},
   "outputs": [
    {
     "data": {
      "text/plain": [
       "Python                    2553\n",
       "Excel                     2072\n",
       "English Language          1495\n",
       "WordPress                 1442\n",
       "Math                      1341\n",
       "                          ... \n",
       "Business Studio              1\n",
       "Highcharts                   1\n",
       "SciPy                        1\n",
       "Nunit                        1\n",
       "Security Communication       1\n",
       "Name: topic, Length: 3818, dtype: int64"
      ]
     },
     "execution_count": 11,
     "metadata": {},
     "output_type": "execute_result"
    }
   ],
   "source": [
    "df.topic.value_counts()"
   ]
  },
  {
   "cell_type": "code",
   "execution_count": 12,
   "id": "cbefbdec",
   "metadata": {},
   "outputs": [
    {
     "data": {
      "text/plain": [
       "English       123921\n",
       "Portuguese     18471\n",
       "Spanish        17428\n",
       "Turkish         8100\n",
       "Japanese        7006\n",
       "               ...  \n",
       "Welsh              1\n",
       "Frisian            1\n",
       "Zulu               1\n",
       "Tatar              1\n",
       "Faroese            1\n",
       "Name: language, Length: 79, dtype: int64"
      ]
     },
     "execution_count": 12,
     "metadata": {},
     "output_type": "execute_result"
    }
   ],
   "source": [
    "df.language.value_counts()"
   ]
  },
  {
   "cell_type": "code",
   "execution_count": 13,
   "id": "67876d5a",
   "metadata": {},
   "outputs": [
    {
     "data": {
      "text/plain": [
       "Packt Publishing               1254\n",
       "Bluelime Learning Solutions     422\n",
       "Illumeo Learning                410\n",
       "Laurence Svekis                 327\n",
       "Infinite Skills                 323\n",
       "                               ... \n",
       "Emmanuel Goshen                   1\n",
       "Erick Segura                      1\n",
       "Arunkumar Menon                   1\n",
       "Professor Arthur Mesquita         1\n",
       "James Dunne                       1\n",
       "Name: instructor_name, Length: 72731, dtype: int64"
      ]
     },
     "execution_count": 13,
     "metadata": {},
     "output_type": "execute_result"
    }
   ],
   "source": [
    "df.instructor_name.value_counts()"
   ]
  },
  {
   "cell_type": "code",
   "execution_count": 18,
   "id": "0387504a",
   "metadata": {},
   "outputs": [
    {
     "data": {
      "text/plain": [
       "id                    0.000000\n",
       "title                 0.000000\n",
       "is_paid               0.000000\n",
       "price                 0.000000\n",
       "headline              0.012873\n",
       "num_subscribers       0.000000\n",
       "avg_rating            0.000000\n",
       "num_reviews           0.000000\n",
       "num_comments          0.000000\n",
       "num_lectures          0.000000\n",
       "content_length_min    0.000000\n",
       "published_time        0.000000\n",
       "last_update_date      0.065321\n",
       "category              0.000000\n",
       "subcategory           0.000000\n",
       "topic                 0.456769\n",
       "language              0.000000\n",
       "course_url            0.000000\n",
       "instructor_name       0.002384\n",
       "instructor_url        0.203591\n",
       "dtype: float64"
      ]
     },
     "execution_count": 18,
     "metadata": {},
     "output_type": "execute_result"
    }
   ],
   "source": [
    "(df.isnull().sum()/df.shape[0])*100"
   ]
  },
  {
   "cell_type": "code",
   "execution_count": 54,
   "id": "7131daea",
   "metadata": {
    "collapsed": true
   },
   "outputs": [
    {
     "data": {
      "text/html": [
       "<div>\n",
       "<style scoped>\n",
       "    .dataframe tbody tr th:only-of-type {\n",
       "        vertical-align: middle;\n",
       "    }\n",
       "\n",
       "    .dataframe tbody tr th {\n",
       "        vertical-align: top;\n",
       "    }\n",
       "\n",
       "    .dataframe thead th {\n",
       "        text-align: right;\n",
       "    }\n",
       "</style>\n",
       "<table border=\"1\" class=\"dataframe\">\n",
       "  <thead>\n",
       "    <tr style=\"text-align: right;\">\n",
       "      <th></th>\n",
       "      <th>id</th>\n",
       "      <th>title</th>\n",
       "      <th>is_paid</th>\n",
       "      <th>price</th>\n",
       "      <th>headline</th>\n",
       "      <th>num_subscribers</th>\n",
       "      <th>avg_rating</th>\n",
       "      <th>num_reviews</th>\n",
       "      <th>num_comments</th>\n",
       "      <th>num_lectures</th>\n",
       "      <th>...</th>\n",
       "      <th>published_time</th>\n",
       "      <th>last_update_date</th>\n",
       "      <th>category</th>\n",
       "      <th>subcategory</th>\n",
       "      <th>topic</th>\n",
       "      <th>language</th>\n",
       "      <th>course_url</th>\n",
       "      <th>instructor_name</th>\n",
       "      <th>instructor_url</th>\n",
       "      <th>length_hour</th>\n",
       "    </tr>\n",
       "  </thead>\n",
       "  <tbody>\n",
       "    <tr>\n",
       "      <th>0</th>\n",
       "      <td>4715.0</td>\n",
       "      <td>Online Vegan Vegetarian Cooking School</td>\n",
       "      <td>True</td>\n",
       "      <td>24.99</td>\n",
       "      <td>Learn to cook delicious vegan recipes. Filmed ...</td>\n",
       "      <td>2231.0</td>\n",
       "      <td>3.75000</td>\n",
       "      <td>134.0</td>\n",
       "      <td>42.0</td>\n",
       "      <td>37.0</td>\n",
       "      <td>...</td>\n",
       "      <td>2010-08-05T22:06:13Z</td>\n",
       "      <td>2020-11-06</td>\n",
       "      <td>Lifestyle</td>\n",
       "      <td>Food &amp; Beverage</td>\n",
       "      <td>Vegan Cooking</td>\n",
       "      <td>English</td>\n",
       "      <td>/course/vegan-vegetarian-cooking-school/</td>\n",
       "      <td>Angela Poch</td>\n",
       "      <td>/user/angelapoch/</td>\n",
       "      <td>52.833333</td>\n",
       "    </tr>\n",
       "    <tr>\n",
       "      <th>2</th>\n",
       "      <td>5664.0</td>\n",
       "      <td>How To Become a Vegan, Vegetarian, or Flexitarian</td>\n",
       "      <td>True</td>\n",
       "      <td>19.99</td>\n",
       "      <td>Get the tools you need for a lifestyle change ...</td>\n",
       "      <td>1713.0</td>\n",
       "      <td>4.40000</td>\n",
       "      <td>41.0</td>\n",
       "      <td>13.0</td>\n",
       "      <td>14.0</td>\n",
       "      <td>...</td>\n",
       "      <td>2010-10-13T18:07:17Z</td>\n",
       "      <td>2019-10-09</td>\n",
       "      <td>Lifestyle</td>\n",
       "      <td>Other Lifestyle</td>\n",
       "      <td>Vegan Cooking</td>\n",
       "      <td>English</td>\n",
       "      <td>/course/see-my-personal-motivation-for-becomin...</td>\n",
       "      <td>Angela Poch</td>\n",
       "      <td>/user/angelapoch/</td>\n",
       "      <td>3.416667</td>\n",
       "    </tr>\n",
       "    <tr>\n",
       "      <th>3</th>\n",
       "      <td>7723.0</td>\n",
       "      <td>How to Train a Puppy</td>\n",
       "      <td>True</td>\n",
       "      <td>199.99</td>\n",
       "      <td>Train your puppy the right way with Dr. Ian Du...</td>\n",
       "      <td>4988.0</td>\n",
       "      <td>4.80000</td>\n",
       "      <td>395.0</td>\n",
       "      <td>88.0</td>\n",
       "      <td>36.0</td>\n",
       "      <td>...</td>\n",
       "      <td>2011-06-20T20:08:38Z</td>\n",
       "      <td>2016-01-13</td>\n",
       "      <td>Lifestyle</td>\n",
       "      <td>Pet Care &amp; Training</td>\n",
       "      <td>Pet Training</td>\n",
       "      <td>English</td>\n",
       "      <td>/course/complete-dunbar-collection/</td>\n",
       "      <td>Ian Dunbar</td>\n",
       "      <td>/user/ian-dunbar/</td>\n",
       "      <td>62.958333</td>\n",
       "    </tr>\n",
       "    <tr>\n",
       "      <th>5</th>\n",
       "      <td>8139.0</td>\n",
       "      <td>14-Day Yoga Detox and Empowerment Course</td>\n",
       "      <td>True</td>\n",
       "      <td>29.99</td>\n",
       "      <td>Lose weight, get healthier and fit on all leve...</td>\n",
       "      <td>20505.0</td>\n",
       "      <td>4.53012</td>\n",
       "      <td>796.0</td>\n",
       "      <td>135.0</td>\n",
       "      <td>31.0</td>\n",
       "      <td>...</td>\n",
       "      <td>2011-07-15T04:13:24Z</td>\n",
       "      <td>2018-05-22</td>\n",
       "      <td>Health &amp; Fitness</td>\n",
       "      <td>Yoga</td>\n",
       "      <td>Yoga</td>\n",
       "      <td>English</td>\n",
       "      <td>/course/yoga-for-weight-loss-and-core-strength...</td>\n",
       "      <td>Sadie Nardini</td>\n",
       "      <td>/user/sadienardini/</td>\n",
       "      <td>48.458333</td>\n",
       "    </tr>\n",
       "    <tr>\n",
       "      <th>6</th>\n",
       "      <td>2762.0</td>\n",
       "      <td>Simple Strategy for Swing Trading the Stock Ma...</td>\n",
       "      <td>True</td>\n",
       "      <td>39.99</td>\n",
       "      <td>Use my favorite Technical Indicator and the Tr...</td>\n",
       "      <td>3309.0</td>\n",
       "      <td>3.85000</td>\n",
       "      <td>958.0</td>\n",
       "      <td>241.0</td>\n",
       "      <td>8.0</td>\n",
       "      <td>...</td>\n",
       "      <td>2010-04-14T16:32:46Z</td>\n",
       "      <td>2019-03-07</td>\n",
       "      <td>Finance &amp; Accounting</td>\n",
       "      <td>Investing &amp; Trading</td>\n",
       "      <td>Swing Trading</td>\n",
       "      <td>English</td>\n",
       "      <td>/course/swing-trading-the-stock-market/</td>\n",
       "      <td>Tom Watson</td>\n",
       "      <td>/user/tomwatson/</td>\n",
       "      <td>3.333333</td>\n",
       "    </tr>\n",
       "    <tr>\n",
       "      <th>...</th>\n",
       "      <td>...</td>\n",
       "      <td>...</td>\n",
       "      <td>...</td>\n",
       "      <td>...</td>\n",
       "      <td>...</td>\n",
       "      <td>...</td>\n",
       "      <td>...</td>\n",
       "      <td>...</td>\n",
       "      <td>...</td>\n",
       "      <td>...</td>\n",
       "      <td>...</td>\n",
       "      <td>...</td>\n",
       "      <td>...</td>\n",
       "      <td>...</td>\n",
       "      <td>...</td>\n",
       "      <td>...</td>\n",
       "      <td>...</td>\n",
       "      <td>...</td>\n",
       "      <td>...</td>\n",
       "      <td>...</td>\n",
       "      <td>...</td>\n",
       "    </tr>\n",
       "    <tr>\n",
       "      <th>209729</th>\n",
       "      <td>4913954.0</td>\n",
       "      <td>Let's Speak Urdu - The Urdu Grammar</td>\n",
       "      <td>True</td>\n",
       "      <td>19.99</td>\n",
       "      <td>Urdu - Become fluent in this beautiful South A...</td>\n",
       "      <td>3.0</td>\n",
       "      <td>0.00000</td>\n",
       "      <td>0.0</td>\n",
       "      <td>0.0</td>\n",
       "      <td>5.0</td>\n",
       "      <td>...</td>\n",
       "      <td>2022-10-05T11:31:36Z</td>\n",
       "      <td>2022-10-06</td>\n",
       "      <td>Teaching &amp; Academics</td>\n",
       "      <td>Language Learning</td>\n",
       "      <td>Urdu Language</td>\n",
       "      <td>English</td>\n",
       "      <td>/course/lets-speak-urdu-the-grammar/</td>\n",
       "      <td>Jawaid Hameed</td>\n",
       "      <td>/user/jawaid-hameed/</td>\n",
       "      <td>2.250000</td>\n",
       "    </tr>\n",
       "    <tr>\n",
       "      <th>209730</th>\n",
       "      <td>4914146.0</td>\n",
       "      <td>CompTIA Linux+ (XKO-004/005 # 2 Practice Exam ...</td>\n",
       "      <td>True</td>\n",
       "      <td>49.99</td>\n",
       "      <td>Practice Latest exam questions with detailed e...</td>\n",
       "      <td>0.0</td>\n",
       "      <td>0.00000</td>\n",
       "      <td>0.0</td>\n",
       "      <td>0.0</td>\n",
       "      <td>0.0</td>\n",
       "      <td>...</td>\n",
       "      <td>2022-10-05T12:29:23Z</td>\n",
       "      <td>2022-10-05</td>\n",
       "      <td>IT &amp; Software</td>\n",
       "      <td>IT Certifications</td>\n",
       "      <td>CompTIA Linux+</td>\n",
       "      <td>English</td>\n",
       "      <td>/course/comptia-linux-xko-004005-2-practice-ex...</td>\n",
       "      <td>Jean-François d'Halluin</td>\n",
       "      <td>/user/badre-lini/</td>\n",
       "      <td>0.000000</td>\n",
       "    </tr>\n",
       "    <tr>\n",
       "      <th>209731</th>\n",
       "      <td>4914002.0</td>\n",
       "      <td>CISSP 4 full exams #1 : All CISSP domains - 12...</td>\n",
       "      <td>True</td>\n",
       "      <td>49.99</td>\n",
       "      <td>Practice Latest exam questions with detailed e...</td>\n",
       "      <td>0.0</td>\n",
       "      <td>0.00000</td>\n",
       "      <td>0.0</td>\n",
       "      <td>0.0</td>\n",
       "      <td>0.0</td>\n",
       "      <td>...</td>\n",
       "      <td>2022-10-05T11:04:05Z</td>\n",
       "      <td>2022-10-05</td>\n",
       "      <td>IT &amp; Software</td>\n",
       "      <td>IT Certifications</td>\n",
       "      <td>CISSP - Certified Information Systems Security...</td>\n",
       "      <td>English</td>\n",
       "      <td>/course/cissp-4-full-exams-1-all-cissp-domains...</td>\n",
       "      <td>Jean-François d'Halluin</td>\n",
       "      <td>/user/badre-lini/</td>\n",
       "      <td>0.000000</td>\n",
       "    </tr>\n",
       "    <tr>\n",
       "      <th>209732</th>\n",
       "      <td>4913934.0</td>\n",
       "      <td>JD Edwards EnterpriseOne Fixed Assets Accounti...</td>\n",
       "      <td>True</td>\n",
       "      <td>119.99</td>\n",
       "      <td>Full-length course (Part-3 of 3) on JD Edwards...</td>\n",
       "      <td>0.0</td>\n",
       "      <td>0.00000</td>\n",
       "      <td>0.0</td>\n",
       "      <td>0.0</td>\n",
       "      <td>9.0</td>\n",
       "      <td>...</td>\n",
       "      <td>2022-10-05T10:30:19Z</td>\n",
       "      <td>2022-10-05</td>\n",
       "      <td>Finance &amp; Accounting</td>\n",
       "      <td>Other Finance &amp; Accounting</td>\n",
       "      <td>Financial Accounting</td>\n",
       "      <td>English</td>\n",
       "      <td>/course/jde-fixed-assets-accounting-part-3/</td>\n",
       "      <td>Niranjan Bhatia</td>\n",
       "      <td>/user/systemic-software-solutions/</td>\n",
       "      <td>3.416667</td>\n",
       "    </tr>\n",
       "    <tr>\n",
       "      <th>209733</th>\n",
       "      <td>4914054.0</td>\n",
       "      <td>CISSP 4 full exams #2 : All CISSP domains - 12...</td>\n",
       "      <td>True</td>\n",
       "      <td>49.99</td>\n",
       "      <td>Practice Latest exam questions with detailed e...</td>\n",
       "      <td>0.0</td>\n",
       "      <td>0.00000</td>\n",
       "      <td>0.0</td>\n",
       "      <td>0.0</td>\n",
       "      <td>0.0</td>\n",
       "      <td>...</td>\n",
       "      <td>2022-10-05T11:36:34Z</td>\n",
       "      <td>2022-10-05</td>\n",
       "      <td>IT &amp; Software</td>\n",
       "      <td>IT Certifications</td>\n",
       "      <td>CISSP - Certified Information Systems Security...</td>\n",
       "      <td>English</td>\n",
       "      <td>/course/cissp-4-full-exams-2-all-cissp-domains...</td>\n",
       "      <td>Jean-François d'Halluin</td>\n",
       "      <td>/user/badre-lini/</td>\n",
       "      <td>0.000000</td>\n",
       "    </tr>\n",
       "  </tbody>\n",
       "</table>\n",
       "<p>208190 rows × 21 columns</p>\n",
       "</div>"
      ],
      "text/plain": [
       "               id                                              title  is_paid  \\\n",
       "0          4715.0             Online Vegan Vegetarian Cooking School     True   \n",
       "2          5664.0  How To Become a Vegan, Vegetarian, or Flexitarian     True   \n",
       "3          7723.0                               How to Train a Puppy     True   \n",
       "5          8139.0           14-Day Yoga Detox and Empowerment Course     True   \n",
       "6          2762.0  Simple Strategy for Swing Trading the Stock Ma...     True   \n",
       "...           ...                                                ...      ...   \n",
       "209729  4913954.0                Let's Speak Urdu - The Urdu Grammar     True   \n",
       "209730  4914146.0  CompTIA Linux+ (XKO-004/005 # 2 Practice Exam ...     True   \n",
       "209731  4914002.0  CISSP 4 full exams #1 : All CISSP domains - 12...     True   \n",
       "209732  4913934.0  JD Edwards EnterpriseOne Fixed Assets Accounti...     True   \n",
       "209733  4914054.0  CISSP 4 full exams #2 : All CISSP domains - 12...     True   \n",
       "\n",
       "         price                                           headline  \\\n",
       "0        24.99  Learn to cook delicious vegan recipes. Filmed ...   \n",
       "2        19.99  Get the tools you need for a lifestyle change ...   \n",
       "3       199.99  Train your puppy the right way with Dr. Ian Du...   \n",
       "5        29.99  Lose weight, get healthier and fit on all leve...   \n",
       "6        39.99  Use my favorite Technical Indicator and the Tr...   \n",
       "...        ...                                                ...   \n",
       "209729   19.99  Urdu - Become fluent in this beautiful South A...   \n",
       "209730   49.99  Practice Latest exam questions with detailed e...   \n",
       "209731   49.99  Practice Latest exam questions with detailed e...   \n",
       "209732  119.99  Full-length course (Part-3 of 3) on JD Edwards...   \n",
       "209733   49.99  Practice Latest exam questions with detailed e...   \n",
       "\n",
       "        num_subscribers  avg_rating  num_reviews  num_comments  num_lectures  \\\n",
       "0                2231.0     3.75000        134.0          42.0          37.0   \n",
       "2                1713.0     4.40000         41.0          13.0          14.0   \n",
       "3                4988.0     4.80000        395.0          88.0          36.0   \n",
       "5               20505.0     4.53012        796.0         135.0          31.0   \n",
       "6                3309.0     3.85000        958.0         241.0           8.0   \n",
       "...                 ...         ...          ...           ...           ...   \n",
       "209729              3.0     0.00000          0.0           0.0           5.0   \n",
       "209730              0.0     0.00000          0.0           0.0           0.0   \n",
       "209731              0.0     0.00000          0.0           0.0           0.0   \n",
       "209732              0.0     0.00000          0.0           0.0           9.0   \n",
       "209733              0.0     0.00000          0.0           0.0           0.0   \n",
       "\n",
       "        ...        published_time last_update_date              category  \\\n",
       "0       ...  2010-08-05T22:06:13Z       2020-11-06             Lifestyle   \n",
       "2       ...  2010-10-13T18:07:17Z       2019-10-09             Lifestyle   \n",
       "3       ...  2011-06-20T20:08:38Z       2016-01-13             Lifestyle   \n",
       "5       ...  2011-07-15T04:13:24Z       2018-05-22      Health & Fitness   \n",
       "6       ...  2010-04-14T16:32:46Z       2019-03-07  Finance & Accounting   \n",
       "...     ...                   ...              ...                   ...   \n",
       "209729  ...  2022-10-05T11:31:36Z       2022-10-06  Teaching & Academics   \n",
       "209730  ...  2022-10-05T12:29:23Z       2022-10-05         IT & Software   \n",
       "209731  ...  2022-10-05T11:04:05Z       2022-10-05         IT & Software   \n",
       "209732  ...  2022-10-05T10:30:19Z       2022-10-05  Finance & Accounting   \n",
       "209733  ...  2022-10-05T11:36:34Z       2022-10-05         IT & Software   \n",
       "\n",
       "                       subcategory  \\\n",
       "0                  Food & Beverage   \n",
       "2                  Other Lifestyle   \n",
       "3              Pet Care & Training   \n",
       "5                             Yoga   \n",
       "6              Investing & Trading   \n",
       "...                            ...   \n",
       "209729           Language Learning   \n",
       "209730           IT Certifications   \n",
       "209731           IT Certifications   \n",
       "209732  Other Finance & Accounting   \n",
       "209733           IT Certifications   \n",
       "\n",
       "                                                    topic language  \\\n",
       "0                                           Vegan Cooking  English   \n",
       "2                                           Vegan Cooking  English   \n",
       "3                                            Pet Training  English   \n",
       "5                                                    Yoga  English   \n",
       "6                                           Swing Trading  English   \n",
       "...                                                   ...      ...   \n",
       "209729                                      Urdu Language  English   \n",
       "209730                                     CompTIA Linux+  English   \n",
       "209731  CISSP - Certified Information Systems Security...  English   \n",
       "209732                               Financial Accounting  English   \n",
       "209733  CISSP - Certified Information Systems Security...  English   \n",
       "\n",
       "                                               course_url  \\\n",
       "0                /course/vegan-vegetarian-cooking-school/   \n",
       "2       /course/see-my-personal-motivation-for-becomin...   \n",
       "3                     /course/complete-dunbar-collection/   \n",
       "5       /course/yoga-for-weight-loss-and-core-strength...   \n",
       "6                 /course/swing-trading-the-stock-market/   \n",
       "...                                                   ...   \n",
       "209729               /course/lets-speak-urdu-the-grammar/   \n",
       "209730  /course/comptia-linux-xko-004005-2-practice-ex...   \n",
       "209731  /course/cissp-4-full-exams-1-all-cissp-domains...   \n",
       "209732        /course/jde-fixed-assets-accounting-part-3/   \n",
       "209733  /course/cissp-4-full-exams-2-all-cissp-domains...   \n",
       "\n",
       "                instructor_name                      instructor_url  \\\n",
       "0                   Angela Poch                   /user/angelapoch/   \n",
       "2                   Angela Poch                   /user/angelapoch/   \n",
       "3                    Ian Dunbar                   /user/ian-dunbar/   \n",
       "5                 Sadie Nardini                 /user/sadienardini/   \n",
       "6                    Tom Watson                    /user/tomwatson/   \n",
       "...                         ...                                 ...   \n",
       "209729            Jawaid Hameed                /user/jawaid-hameed/   \n",
       "209730  Jean-François d'Halluin                   /user/badre-lini/   \n",
       "209731  Jean-François d'Halluin                   /user/badre-lini/   \n",
       "209732          Niranjan Bhatia  /user/systemic-software-solutions/   \n",
       "209733  Jean-François d'Halluin                   /user/badre-lini/   \n",
       "\n",
       "       length_hour  \n",
       "0        52.833333  \n",
       "2         3.416667  \n",
       "3        62.958333  \n",
       "5        48.458333  \n",
       "6         3.333333  \n",
       "...            ...  \n",
       "209729    2.250000  \n",
       "209730    0.000000  \n",
       "209731    0.000000  \n",
       "209732    3.416667  \n",
       "209733    0.000000  \n",
       "\n",
       "[208190 rows x 21 columns]"
      ]
     },
     "execution_count": 54,
     "metadata": {},
     "output_type": "execute_result"
    }
   ],
   "source": [
    "df=df.dropna()"
   ]
  },
  {
   "cell_type": "code",
   "execution_count": 39,
   "id": "ecd1d398",
   "metadata": {},
   "outputs": [
    {
     "data": {
      "text/plain": [
       "(array([1.61724e+05, 3.63190e+04, 4.69500e+03, 2.44600e+03, 1.15300e+03,\n",
       "        1.27300e+03, 2.35000e+02, 1.15300e+03, 1.61000e+02, 5.75000e+02]),\n",
       " array([  0.   ,  99.999, 199.998, 299.997, 399.996, 499.995, 599.994,\n",
       "        699.993, 799.992, 899.991, 999.99 ]),\n",
       " <BarContainer object of 10 artists>)"
      ]
     },
     "execution_count": 39,
     "metadata": {},
     "output_type": "execute_result"
    },
    {
     "data": {
      "image/png": "[encoded data removed]",
      "text/plain": [
       "<Figure size 432x288 with 1 Axes>"
      ]
     },
     "metadata": {
      "needs_background": "light"
     },
     "output_type": "display_data"
    }
   ],
   "source": [
    "plt.hist(df.price)"
   ]
  },
  {
   "cell_type": "code",
   "execution_count": 40,
   "id": "e48196a5",
   "metadata": {},
   "outputs": [
    {
     "data": {
      "text/plain": [
       "(array([78438., 33616., 17082., 15028., 17560.,  3277.,  4592.,  4631.,\n",
       "         3184., 20635.]),\n",
       " array([  0.   ,  19.999,  39.998,  59.997,  79.996,  99.995, 119.994,\n",
       "        139.993, 159.992, 179.991, 199.99 ]),\n",
       " <BarContainer object of 10 artists>)"
      ]
     },
     "execution_count": 40,
     "metadata": {},
     "output_type": "execute_result"
    },
    {
     "data": {
      "image/png": "[encoded data removed]",
      "text/plain": [
       "<Figure size 432x288 with 1 Axes>"
      ]
     },
     "metadata": {
      "needs_background": "light"
     },
     "output_type": "display_data"
    }
   ],
   "source": [
    "plt.hist(df[\"price\"][df[\"price\"] < 200])"
   ]
  },
  {
   "cell_type": "code",
   "execution_count": 41,
   "id": "b7489c7a",
   "metadata": {},
   "outputs": [
    {
     "data": {
      "text/plain": [
       "{'whiskers': [<matplotlib.lines.Line2D at 0x1f28959bee0>,\n",
       "  <matplotlib.lines.Line2D at 0x1f2895ae1f0>],\n",
       " 'caps': [<matplotlib.lines.Line2D at 0x1f2895ae580>,\n",
       "  <matplotlib.lines.Line2D at 0x1f2895ae790>],\n",
       " 'boxes': [<matplotlib.lines.Line2D at 0x1f28959bc10>],\n",
       " 'medians': [<matplotlib.lines.Line2D at 0x1f2895aea60>],\n",
       " 'fliers': [<matplotlib.lines.Line2D at 0x1f2895aed30>],\n",
       " 'means': []}"
      ]
     },
     "execution_count": 41,
     "metadata": {},
     "output_type": "execute_result"
    },
    {
     "data": {
      "image/png": "[encoded data removed]",
      "text/plain": [
       "<Figure size 432x288 with 1 Axes>"
      ]
     },
     "metadata": {
      "needs_background": "light"
     },
     "output_type": "display_data"
    }
   ],
   "source": [
    "plt.boxplot(df.price)"
   ]
  },
  {
   "cell_type": "code",
   "execution_count": 39,
   "id": "aab44ef7",
   "metadata": {},
   "outputs": [],
   "source": [
    "df[\"cleaned_price\"] = df.price\n",
    "\n",
    "#low_percentile = 0.01\n",
    "high_percentile = 0.99\n",
    "\n",
    "high = df.price.quantile(high_percentile)\n",
    "\n",
    "df[\"cleaned_price\"][df[\"cleaned_price\"] > high] = high\n",
    "df[\"cleaned_price\"][df[\"cleaned_price\"] <= 0] = np.nan"
   ]
  },
  {
   "cell_type": "code",
   "execution_count": 6,
   "id": "70517a94",
   "metadata": {},
   "outputs": [],
   "source": [
    "bins = [1,10,50,100,200,999]\n",
    "labels = ['low', 'medium',\"high\",\"expensive\",\"very expensive\"]\n",
    "df['price_cat'] = pd.cut(x = df['price'], bins = bins, labels = labels, include_lowest = True)\n",
    "\n",
    "df[\"price_cat\"] = df[\"price_cat\"].astype(\"object\")\n",
    "\n",
    "df[\"price_cat\"] = df[\"price_cat\"].where(df[\"price\"]>0, other=\"free\")"
   ]
  },
  {
   "cell_type": "code",
   "execution_count": 7,
   "id": "64afa4fd",
   "metadata": {},
   "outputs": [
    {
     "data": {
      "text/plain": [
       "medium            90350\n",
       "high              37362\n",
       "expensive         36319\n",
       "free              21738\n",
       "low               11731\n",
       "very expensive    11562\n",
       "Name: price_cat, dtype: int64"
      ]
     },
     "execution_count": 7,
     "metadata": {},
     "output_type": "execute_result"
    }
   ],
   "source": [
    "df.price_cat.value_counts()"
   ]
  },
  {
   "cell_type": "code",
   "execution_count": 8,
   "id": "19985883",
   "metadata": {},
   "outputs": [
    {
     "data": {
      "text/plain": [
       "<BarContainer object of 6 artists>"
      ]
     },
     "execution_count": 8,
     "metadata": {},
     "output_type": "execute_result"
    },
    {
     "data": {
      "image/png": "[encoded data removed]",
      "text/plain": [
       "<Figure size 432x288 with 1 Axes>"
      ]
     },
     "metadata": {
      "needs_background": "light"
     },
     "output_type": "display_data"
    }
   ],
   "source": [
    "price_category = pd.DataFrame(df.groupby(df[\"price_cat\"]).count())\n",
    "\n",
    "plt.bar(price_category.index,price_category.id)"
   ]
  },
  {
   "cell_type": "code",
   "execution_count": 11,
   "id": "f9db28e8",
   "metadata": {},
   "outputs": [
    {
     "data": {
      "text/html": [
       "<div>\n",
       "<style scoped>\n",
       "    .dataframe tbody tr th:only-of-type {\n",
       "        vertical-align: middle;\n",
       "    }\n",
       "\n",
       "    .dataframe tbody tr th {\n",
       "        vertical-align: top;\n",
       "    }\n",
       "\n",
       "    .dataframe thead th {\n",
       "        text-align: right;\n",
       "    }\n",
       "</style>\n",
       "<table border=\"1\" class=\"dataframe\">\n",
       "  <thead>\n",
       "    <tr style=\"text-align: right;\">\n",
       "      <th></th>\n",
       "      <th>id</th>\n",
       "    </tr>\n",
       "    <tr>\n",
       "      <th>price_cat</th>\n",
       "      <th></th>\n",
       "    </tr>\n",
       "  </thead>\n",
       "  <tbody>\n",
       "    <tr>\n",
       "      <th>expensive</th>\n",
       "      <td>36319</td>\n",
       "    </tr>\n",
       "    <tr>\n",
       "      <th>free</th>\n",
       "      <td>21738</td>\n",
       "    </tr>\n",
       "    <tr>\n",
       "      <th>high</th>\n",
       "      <td>37362</td>\n",
       "    </tr>\n",
       "    <tr>\n",
       "      <th>low</th>\n",
       "      <td>11731</td>\n",
       "    </tr>\n",
       "    <tr>\n",
       "      <th>medium</th>\n",
       "      <td>90350</td>\n",
       "    </tr>\n",
       "    <tr>\n",
       "      <th>very expensive</th>\n",
       "      <td>11562</td>\n",
       "    </tr>\n",
       "  </tbody>\n",
       "</table>\n",
       "</div>"
      ],
      "text/plain": [
       "                   id\n",
       "price_cat            \n",
       "expensive       36319\n",
       "free            21738\n",
       "high            37362\n",
       "low             11731\n",
       "medium          90350\n",
       "very expensive  11562"
      ]
     },
     "execution_count": 11,
     "metadata": {},
     "output_type": "execute_result"
    }
   ],
   "source": [
    "selected_col = pd.DataFrame(price_category[\"id\"])\n",
    "selected_col"
   ]
  },
  {
   "cell_type": "code",
   "execution_count": 12,
   "id": "b88f91b7",
   "metadata": {},
   "outputs": [],
   "source": [
    "selected_col.to_excel(\"price_course.xlsx\")"
   ]
  },
  {
   "cell_type": "code",
   "execution_count": 13,
   "id": "dc411c21",
   "metadata": {},
   "outputs": [
    {
     "data": {
      "text/plain": [
       "<BarContainer object of 6 artists>"
      ]
     },
     "execution_count": 13,
     "metadata": {},
     "output_type": "execute_result"
    },
    {
     "data": {
      "image/png": "[encoded data removed]",
      "text/plain": [
       "<Figure size 432x288 with 1 Axes>"
      ]
     },
     "metadata": {
      "needs_background": "light"
     },
     "output_type": "display_data"
    }
   ],
   "source": [
    "price_category_subs = pd.DataFrame(df[\"num_subscribers\"].groupby(df[\"price_cat\"]).sum())\n",
    "\n",
    "plt.bar(price_category_subs.index,price_category_subs.num_subscribers)"
   ]
  },
  {
   "cell_type": "code",
   "execution_count": 15,
   "id": "e221ebb7",
   "metadata": {},
   "outputs": [],
   "source": [
    "price_category_subs.to_excel(\"no_of_user_price.xlsx\")"
   ]
  },
  {
   "cell_type": "code",
   "execution_count": 44,
   "id": "f86710ae",
   "metadata": {},
   "outputs": [],
   "source": [
    "#converting min to hour\n",
    "df[\"length_hour\"] = df.content_length_min/24"
   ]
  },
  {
   "cell_type": "code",
   "execution_count": 45,
   "id": "33816a19",
   "metadata": {},
   "outputs": [
    {
     "data": {
      "text/plain": [
       "(array([2.08027e+05, 1.39100e+03, 2.18000e+02, 6.80000e+01, 1.80000e+01,\n",
       "        4.00000e+00, 5.00000e+00, 1.00000e+00, 0.00000e+00, 2.00000e+00]),\n",
       " array([  0.        ,  94.04166667, 188.08333333, 282.125     ,\n",
       "        376.16666667, 470.20833333, 564.25      , 658.29166667,\n",
       "        752.33333333, 846.375     , 940.41666667]),\n",
       " <BarContainer object of 10 artists>)"
      ]
     },
     "execution_count": 45,
     "metadata": {},
     "output_type": "execute_result"
    },
    {
     "data": {
      "image/png": "[encoded data removed]",
      "text/plain": [
       "<Figure size 432x288 with 1 Axes>"
      ]
     },
     "metadata": {
      "needs_background": "light"
     },
     "output_type": "display_data"
    }
   ],
   "source": [
    "plt.hist(df[\"length_hour\"] )"
   ]
  },
  {
   "cell_type": "code",
   "execution_count": 47,
   "id": "a881d39d",
   "metadata": {},
   "outputs": [
    {
     "data": {
      "text/plain": [
       "(array([96287., 49552., 23342., 12714.,  7602.,  5068.,  3274.,  2359.,\n",
       "         1778.,  1366.]),\n",
       " array([ 0.        ,  4.99583333,  9.99166667, 14.9875    , 19.98333333,\n",
       "        24.97916667, 29.975     , 34.97083333, 39.96666667, 44.9625    ,\n",
       "        49.95833333]),\n",
       " <BarContainer object of 10 artists>)"
      ]
     },
     "execution_count": 47,
     "metadata": {},
     "output_type": "execute_result"
    },
    {
     "data": {
      "image/png": "[encoded data removed]",
      "text/plain": [
       "<Figure size 432x288 with 1 Axes>"
      ]
     },
     "metadata": {
      "needs_background": "light"
     },
     "output_type": "display_data"
    }
   ],
   "source": [
    "plt.hist(df[\"length_hour\"][df[\"length_hour\"] < 50] )"
   ]
  },
  {
   "cell_type": "code",
   "execution_count": 29,
   "id": "dade1f05",
   "metadata": {},
   "outputs": [],
   "source": [
    "bins = [0,5,10,25,50,999]\n",
    "labels = ['very short', 'short',\"medium\",\"lengthy\",\"very lengthy\"]\n",
    "df['length_cat'] = pd.cut(x = df['length_hour'], bins = bins, labels = labels, include_lowest = True)\n",
    "\n"
   ]
  },
  {
   "cell_type": "code",
   "execution_count": 31,
   "id": "51858d0c",
   "metadata": {
    "scrolled": true
   },
   "outputs": [
    {
     "data": {
      "text/plain": [
       "<BarContainer object of 5 artists>"
      ]
     },
     "execution_count": 31,
     "metadata": {},
     "output_type": "execute_result"
    },
    {
     "data": {
      "image/png": "[encoded data removed]",
      "text/plain": [
       "<Figure size 432x288 with 1 Axes>"
      ]
     },
     "metadata": {
      "needs_background": "light"
     },
     "output_type": "display_data"
    }
   ],
   "source": [
    "course_len_subs = pd.DataFrame(df[\"num_subscribers\"].groupby(df[\"length_cat\"]).sum())\n",
    "\n",
    "plt.bar(course_len_subs.index,course_len_subs.num_subscribers)"
   ]
  },
  {
   "cell_type": "code",
   "execution_count": 32,
   "id": "c6e9c75c",
   "metadata": {},
   "outputs": [],
   "source": [
    "course_len_subs.to_excel(\"len.xlsx\")"
   ]
  },
  {
   "cell_type": "code",
   "execution_count": 48,
   "id": "46e4952c",
   "metadata": {},
   "outputs": [
    {
     "data": {
      "text/html": [
       "<div>\n",
       "<style scoped>\n",
       "    .dataframe tbody tr th:only-of-type {\n",
       "        vertical-align: middle;\n",
       "    }\n",
       "\n",
       "    .dataframe tbody tr th {\n",
       "        vertical-align: top;\n",
       "    }\n",
       "\n",
       "    .dataframe thead th {\n",
       "        text-align: right;\n",
       "    }\n",
       "</style>\n",
       "<table border=\"1\" class=\"dataframe\">\n",
       "  <thead>\n",
       "    <tr style=\"text-align: right;\">\n",
       "      <th></th>\n",
       "      <th>id</th>\n",
       "      <th>course_id</th>\n",
       "      <th>rate</th>\n",
       "      <th>date</th>\n",
       "      <th>display_name</th>\n",
       "      <th>comment</th>\n",
       "    </tr>\n",
       "  </thead>\n",
       "  <tbody>\n",
       "    <tr>\n",
       "      <th>0</th>\n",
       "      <td>88962892</td>\n",
       "      <td>3173036</td>\n",
       "      <td>1.0</td>\n",
       "      <td>2021-06-29T18:54:25-07:00</td>\n",
       "      <td>Rahul</td>\n",
       "      <td>I think a beginner needs more than you think.\\...</td>\n",
       "    </tr>\n",
       "    <tr>\n",
       "      <th>1</th>\n",
       "      <td>125535470</td>\n",
       "      <td>4913148</td>\n",
       "      <td>5.0</td>\n",
       "      <td>2022-10-07T11:17:41-07:00</td>\n",
       "      <td>Marlo</td>\n",
       "      <td>Aviva is such a natural teacher and healer/hea...</td>\n",
       "    </tr>\n",
       "  </tbody>\n",
       "</table>\n",
       "</div>"
      ],
      "text/plain": [
       "          id  course_id  rate                       date display_name  \\\n",
       "0   88962892    3173036   1.0  2021-06-29T18:54:25-07:00        Rahul   \n",
       "1  125535470    4913148   5.0  2022-10-07T11:17:41-07:00        Marlo   \n",
       "\n",
       "                                             comment  \n",
       "0  I think a beginner needs more than you think.\\...  \n",
       "1  Aviva is such a natural teacher and healer/hea...  "
      ]
     },
     "execution_count": 48,
     "metadata": {},
     "output_type": "execute_result"
    }
   ],
   "source": [
    "df_comment.head(2)"
   ]
  },
  {
   "cell_type": "code",
   "execution_count": 49,
   "id": "50ddce85",
   "metadata": {},
   "outputs": [],
   "source": [
    "df_comment[\"date_\"]=df_comment[\"date\"].str.split('T',expand = True)[0]"
   ]
  },
  {
   "cell_type": "code",
   "execution_count": 50,
   "id": "c7237424",
   "metadata": {},
   "outputs": [
    {
     "data": {
      "text/html": [
       "<div>\n",
       "<style scoped>\n",
       "    .dataframe tbody tr th:only-of-type {\n",
       "        vertical-align: middle;\n",
       "    }\n",
       "\n",
       "    .dataframe tbody tr th {\n",
       "        vertical-align: top;\n",
       "    }\n",
       "\n",
       "    .dataframe thead th {\n",
       "        text-align: right;\n",
       "    }\n",
       "</style>\n",
       "<table border=\"1\" class=\"dataframe\">\n",
       "  <thead>\n",
       "    <tr style=\"text-align: right;\">\n",
       "      <th></th>\n",
       "      <th>id</th>\n",
       "      <th>course_id</th>\n",
       "      <th>rate</th>\n",
       "      <th>date</th>\n",
       "      <th>display_name</th>\n",
       "      <th>comment</th>\n",
       "      <th>date_</th>\n",
       "      <th>year</th>\n",
       "      <th>month</th>\n",
       "    </tr>\n",
       "  </thead>\n",
       "  <tbody>\n",
       "    <tr>\n",
       "      <th>0</th>\n",
       "      <td>88962892</td>\n",
       "      <td>3173036</td>\n",
       "      <td>1.0</td>\n",
       "      <td>2021-06-29T18:54:25-07:00</td>\n",
       "      <td>Rahul</td>\n",
       "      <td>I think a beginner needs more than you think.\\...</td>\n",
       "      <td>2021-06-29</td>\n",
       "      <td>2021</td>\n",
       "      <td>6</td>\n",
       "    </tr>\n",
       "    <tr>\n",
       "      <th>1</th>\n",
       "      <td>125535470</td>\n",
       "      <td>4913148</td>\n",
       "      <td>5.0</td>\n",
       "      <td>2022-10-07T11:17:41-07:00</td>\n",
       "      <td>Marlo</td>\n",
       "      <td>Aviva is such a natural teacher and healer/hea...</td>\n",
       "      <td>2022-10-07</td>\n",
       "      <td>2022</td>\n",
       "      <td>10</td>\n",
       "    </tr>\n",
       "  </tbody>\n",
       "</table>\n",
       "</div>"
      ],
      "text/plain": [
       "          id  course_id  rate                       date display_name  \\\n",
       "0   88962892    3173036   1.0  2021-06-29T18:54:25-07:00        Rahul   \n",
       "1  125535470    4913148   5.0  2022-10-07T11:17:41-07:00        Marlo   \n",
       "\n",
       "                                             comment       date_  year  month  \n",
       "0  I think a beginner needs more than you think.\\...  2021-06-29  2021      6  \n",
       "1  Aviva is such a natural teacher and healer/hea...  2022-10-07  2022     10  "
      ]
     },
     "execution_count": 50,
     "metadata": {},
     "output_type": "execute_result"
    }
   ],
   "source": [
    "df_comment['year'] = pd.DatetimeIndex(df_comment['date_']).year\n",
    "df_comment['month'] = pd.DatetimeIndex(df_comment['date_']).month\n",
    "df_comment.head(2)"
   ]
  },
  {
   "cell_type": "code",
   "execution_count": 51,
   "id": "eeb51ebb",
   "metadata": {},
   "outputs": [
    {
     "data": {
      "text/html": [
       "<div>\n",
       "<style scoped>\n",
       "    .dataframe tbody tr th:only-of-type {\n",
       "        vertical-align: middle;\n",
       "    }\n",
       "\n",
       "    .dataframe tbody tr th {\n",
       "        vertical-align: top;\n",
       "    }\n",
       "\n",
       "    .dataframe thead th {\n",
       "        text-align: right;\n",
       "    }\n",
       "</style>\n",
       "<table border=\"1\" class=\"dataframe\">\n",
       "  <thead>\n",
       "    <tr style=\"text-align: right;\">\n",
       "      <th></th>\n",
       "      <th>id</th>\n",
       "    </tr>\n",
       "    <tr>\n",
       "      <th>year</th>\n",
       "      <th></th>\n",
       "    </tr>\n",
       "  </thead>\n",
       "  <tbody>\n",
       "    <tr>\n",
       "      <th>2011</th>\n",
       "      <td>71</td>\n",
       "    </tr>\n",
       "    <tr>\n",
       "      <th>2012</th>\n",
       "      <td>1096</td>\n",
       "    </tr>\n",
       "    <tr>\n",
       "      <th>2013</th>\n",
       "      <td>9363</td>\n",
       "    </tr>\n",
       "    <tr>\n",
       "      <th>2014</th>\n",
       "      <td>17129</td>\n",
       "    </tr>\n",
       "    <tr>\n",
       "      <th>2015</th>\n",
       "      <td>80509</td>\n",
       "    </tr>\n",
       "    <tr>\n",
       "      <th>2016</th>\n",
       "      <td>396662</td>\n",
       "    </tr>\n",
       "    <tr>\n",
       "      <th>2017</th>\n",
       "      <td>897339</td>\n",
       "    </tr>\n",
       "    <tr>\n",
       "      <th>2018</th>\n",
       "      <td>1159145</td>\n",
       "    </tr>\n",
       "    <tr>\n",
       "      <th>2019</th>\n",
       "      <td>1332504</td>\n",
       "    </tr>\n",
       "    <tr>\n",
       "      <th>2020</th>\n",
       "      <td>2485343</td>\n",
       "    </tr>\n",
       "    <tr>\n",
       "      <th>2021</th>\n",
       "      <td>1454498</td>\n",
       "    </tr>\n",
       "    <tr>\n",
       "      <th>2022</th>\n",
       "      <td>1578068</td>\n",
       "    </tr>\n",
       "  </tbody>\n",
       "</table>\n",
       "</div>"
      ],
      "text/plain": [
       "           id\n",
       "year         \n",
       "2011       71\n",
       "2012     1096\n",
       "2013     9363\n",
       "2014    17129\n",
       "2015    80509\n",
       "2016   396662\n",
       "2017   897339\n",
       "2018  1159145\n",
       "2019  1332504\n",
       "2020  2485343\n",
       "2021  1454498\n",
       "2022  1578068"
      ]
     },
     "execution_count": 51,
     "metadata": {},
     "output_type": "execute_result"
    }
   ],
   "source": [
    "year = pd.DataFrame(df_comment[\"id\"].groupby(df_comment[\"year\"]).count())\n",
    "year"
   ]
  },
  {
   "cell_type": "code",
   "execution_count": 52,
   "id": "9b6f7e19",
   "metadata": {},
   "outputs": [
    {
     "data": {
      "text/plain": [
       "[<matplotlib.lines.Line2D at 0x1f2cf3a6700>]"
      ]
     },
     "execution_count": 52,
     "metadata": {},
     "output_type": "execute_result"
    },
    {
     "data": {
      "image/png": "[encoded data removed]",
      "text/plain": [
       "<Figure size 432x288 with 1 Axes>"
      ]
     },
     "metadata": {
      "needs_background": "light"
     },
     "output_type": "display_data"
    }
   ],
   "source": [
    "plt.plot(year)"
   ]
  },
  {
   "cell_type": "code",
   "execution_count": 53,
   "id": "d1122092",
   "metadata": {},
   "outputs": [],
   "source": [
    "year.to_excel(\"year.xlsx\")"
   ]
  },
  {
   "cell_type": "code",
   "execution_count": null,
   "id": "cc2f90a5",
   "metadata": {},
   "outputs": [],
   "source": []
  }
 ],
 "metadata": {
  "kernelspec": {
   "display_name": "Python 3 (ipykernel)",
   "language": "python",
   "name": "python3"
  },
  "language_info": {
   "codemirror_mode": {
    "name": "ipython",
    "version": 3
   },
   "file_extension": ".py",
   "mimetype": "text/x-python",
   "name": "python",
   "nbconvert_exporter": "python",
   "pygments_lexer": "ipython3",
   "version": "3.9.12"
  }
 },
 "nbformat": 4,
 "nbformat_minor": 5
}
